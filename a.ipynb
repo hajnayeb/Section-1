# -*- coding: utf-8 -*-
"""
Spyder Editor

This is a temporary script file.
"""
print("Hello World")
# if (conditionals): ******************
a=2
print(a)
if a==1:
    c=1
    b=1
elif a>2:
    c=2
    b=2
else:
    b=3
print(b)
# Loops: *******************************
acc=0
for x in range(1,10,3):
    acc=x+acc
    print(acc)
# Lists: ********************************
f=[]
print(f)
c=[
   'a',
   'v',3];
c.append(5)
print(c)
c.insert(0,'L')
print(c)
c.remove('v')
print(c)
del c[0]
print(c)
for y in c:
    print(y)
# Dictionaries ***************************
